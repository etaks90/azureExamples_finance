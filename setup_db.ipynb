{
 "cells": [
  {
   "attachments": {},
   "cell_type": "markdown",
   "metadata": {},
   "source": [
    "In this workbook we present the scripts to fill the database for visualization. We provide the following steps:\n",
    "\n",
    "1.) Import data from the API\n",
    "2.) Calculate the (relative) changes based on step 1\n",
    "3.) Calculate the (conditional) Value at Risk\n",
    "4.) Calculate teh correlation"
   ]
  },
  {
   "cell_type": "code",
   "execution_count": null,
   "metadata": {},
   "outputs": [],
   "source": [
    "# import required packages\n",
    "from app.lib import utils\n",
    "import datetime\n",
    "import pandas as pd\n",
    "from itertools import compress, product\n",
    "\n",
    "# set parameter\n",
    "symbols = [\"BTC-USD\", \"AAPL\", \"BBBY\", \"^GSPC\", \"GME\", \"^GDAXI\", \"EURUSD=X\"]\n",
    "start_date = \"2015-11-17\"\n",
    "final_end_date = \"2022-12-14\"\n",
    "interval = \"1d\""
   ]
  },
  {
   "cell_type": "code",
   "execution_count": null,
   "metadata": {},
   "outputs": [],
   "source": [
    "# get data from api\n",
    "\n",
    "# https://stackoverflow.com/questions/26055556/writing-python-pandas-data-frame-to-sql-database-error\n",
    "data = {}\n",
    "for symbol in symbols:\n",
    "    print(symbol)\n",
    "    df = utils.extract_until_end_date(symbol, utils.str_to_datetime(start_date,format = '%Y-%m-%d')\n",
    "    , utils.str_to_datetime(final_end_date,format = '%Y-%m-%d'), interval = interval, break_first_iteration = False)\n",
    "    df[\"symbol\"] = symbol\n",
    "    df[\"interval\"] = interval\n",
    "    eng = utils.create_engine_object(\"SQLSERVER\", my_host = \"localhost\", my_db = \"master\", my_odbc_driver = \"ODBC Driver 17 for SQL Server\")\n",
    "    rc = utils.write_to_db(eng, df.copy(), \"CANDLE_DATA\")\n"
   ]
  },
  {
   "cell_type": "code",
   "execution_count": null,
   "metadata": {},
   "outputs": [],
   "source": [
    "# calculate the change of previous data\n",
    "\n",
    "if interval == \"1m\":\n",
    "    start_date = datetime.datetime(2022, 11, 8)\n",
    "    end_date = datetime.datetime(2022, 12, 3)\n",
    "    dates = pd.date_range(start_date.strftime(\"%Y-%m-%d\"), end_date.strftime(\"%Y-%m-%d\"), freq = \"D\")\n",
    "    length_interval_in_daays = 1\n",
    "elif interval == \"1d\":\n",
    "    dates = [datetime.datetime(2000, 1, 1)]\n",
    "    length_interval_in_daays = 365*100\n",
    "\n",
    "df = {}\n",
    "eng = utils.create_engine_object(\"SQLSERVER\", my_host = \"localhost\", my_db = \"master\", my_odbc_driver = \"ODBC Driver 17 for SQL Server\")\n",
    "\n",
    "for symbol in symbols:\n",
    "    print(symbol)\n",
    "    print(dates)\n",
    "    df[\"__\".join(symbol)] = utils.calculate_change(dates, symbol, eng, interval, length_interval_in_daays)\n"
   ]
  },
  {
   "cell_type": "code",
   "execution_count": null,
   "metadata": {},
   "outputs": [],
   "source": [
    "# calculate var\n",
    "\n",
    "start_date = datetime.datetime(2021, 12, 31)\n",
    "end_date = datetime.datetime(2022, 12, 15)\n",
    "period_length_in_days = [180, 365, 2*365, 5*365, 10 *365]\n",
    "\n",
    "symbol_cobinations = ( set(compress(symbols,mask)) for mask in product(*[[0,1]]*len(symbols)))\n",
    "\n",
    "# it is important to sort to always have same order!!\n",
    "symbol_cobinations = [sorted(list(e)) for e in list(symbol_cobinations) if len(list(e))>1]\n",
    "\n",
    "df = {}\n",
    "eng = utils.create_engine_object(\"SQLSERVER\", my_host = \"localhost\", my_db = \"master\", my_odbc_driver = \"ODBC Driver 17 for SQL Server\")\n",
    "\n",
    "alpha=[0.1, 0.05, 0.01]\n",
    "for symbols in symbol_cobinations:\n",
    "    for p in period_length_in_days:\n",
    "        d1 = start_date\n",
    "        while d1<=end_date:\n",
    "            print(symbols)\n",
    "            utils.calculate_var(d1, symbols, eng, interval, alpha, p)\n",
    "            # we calculate the VaR for each month\n",
    "            d1 = d1  + pd.DateOffset(months=1)\n",
    "            break\n",
    "        break\n"
   ]
  },
  {
   "cell_type": "code",
   "execution_count": null,
   "metadata": {},
   "outputs": [],
   "source": [
    "# calculate correlation\n",
    "\n",
    "if interval == \"1m\":\n",
    "    start_date = datetime.datetime(2022, 11, 17)\n",
    "    end_date = datetime.datetime(2022, 12, 15)\n",
    "    period_length_in_days = [1, 2, 5]\n",
    "    days_offset = 1\n",
    "elif interval == \"1d\":\n",
    "    start_date = datetime.datetime(2000, 11, 17)\n",
    "    end_date = datetime.datetime(2022, 12, 15)\n",
    "    period_length_in_days = [30, 90, 100]\n",
    "    days_offset = 10\n",
    "\n",
    "\n",
    "symbol_cobinations = ( set(compress(symbols,mask)) for mask in product(*[[0,1]]*len(symbols)) )\n",
    "# it is important to sort to always have same order!!\n",
    "symbol_cobinations = [sorted(list(e)) for e in list(symbol_cobinations) if len(list(e))==2]\n",
    "\n",
    "df = {}\n",
    "eng = utils.create_engine_object(\"SQLSERVER\", my_host = \"localhost\", my_db = \"master\", my_odbc_driver = \"ODBC Driver 17 for SQL Server\")\n",
    "\n",
    "for symbols in symbol_cobinations:\n",
    "    print(symbols)\n",
    "    for p in period_length_in_days:\n",
    "        d1 = start_date\n",
    "        while d1<=end_date:\n",
    "            utils.calculate_correlation(d1, symbols, eng, interval, p)\n",
    "            d1 = d1  + pd.DateOffset(days=days_offset)"
   ]
  }
 ],
 "metadata": {
  "kernelspec": {
   "display_name": "venv",
   "language": "python",
   "name": "python3"
  },
  "language_info": {
   "codemirror_mode": {
    "name": "ipython",
    "version": 3
   },
   "file_extension": ".py",
   "mimetype": "text/x-python",
   "name": "python",
   "nbconvert_exporter": "python",
   "pygments_lexer": "ipython3",
   "version": "3.10.5"
  },
  "orig_nbformat": 4
 },
 "nbformat": 4,
 "nbformat_minor": 2
}
