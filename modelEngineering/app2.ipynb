{
 "cells": [
  {
   "cell_type": "code",
   "execution_count": null,
   "metadata": {},
   "outputs": [],
   "source": [
    "import pandas as pd\n",
    "import joblib\n",
    "df = pd.read_pickle(\"df.pkl\")\n",
    "\n",
    "pipeline = joblib.load('pipeline.pkl')"
   ]
  },
  {
   "cell_type": "code",
   "execution_count": 8,
   "metadata": {},
   "outputs": [
    {
     "name": "stdout",
     "output_type": "stream",
     "text": [
      "0 0\n",
      "1 1\n",
      "0 0\n",
      "1 1\n",
      "0 0\n",
      "0 0\n",
      "0 0\n",
      "1 1\n",
      "0 0\n",
      "0 0\n"
     ]
    }
   ],
   "source": [
    "num_cols = [\"amount\", \"previous_attempts\"]\n",
    "cat_cols = [\"country\", \"PSP\", \"3D_secured\", \"card\", \"day_of_week\"]\n",
    "target_col = \"success\"\n",
    "\n",
    "x = df[num_cols + cat_cols].iloc[0].to_frame().T\n",
    "pipeline.predict(x)[0]\n",
    "\n",
    "for i in range(10):\n",
    "    x = df[num_cols + cat_cols].iloc[i].to_frame().T\n",
    "    success_pred = pipeline.predict(x)[0]\n",
    "    success_true = df[\"success\"].iloc[i]\n",
    "    print(success_pred, success_true)\n"
   ]
  },
  {
   "cell_type": "code",
   "execution_count": 7,
   "metadata": {},
   "outputs": [
    {
     "data": {
      "text/plain": [
       "0        0\n",
       "1        1\n",
       "2        0\n",
       "3        1\n",
       "4        0\n",
       "        ..\n",
       "50405    0\n",
       "50406    0\n",
       "50407    0\n",
       "50408    0\n",
       "50409    1\n",
       "Name: success, Length: 50410, dtype: int64"
      ]
     },
     "execution_count": 7,
     "metadata": {},
     "output_type": "execute_result"
    }
   ],
   "source": [
    "success_true"
   ]
  }
 ],
 "metadata": {
  "kernelspec": {
   "display_name": "venv310",
   "language": "python",
   "name": "python3"
  },
  "language_info": {
   "codemirror_mode": {
    "name": "ipython",
    "version": 3
   },
   "file_extension": ".py",
   "mimetype": "text/x-python",
   "name": "python",
   "nbconvert_exporter": "python",
   "pygments_lexer": "ipython3",
   "version": "3.10.5"
  },
  "orig_nbformat": 4
 },
 "nbformat": 4,
 "nbformat_minor": 2
}
